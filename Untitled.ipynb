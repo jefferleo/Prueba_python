{
 "cells": [
  {
   "cell_type": "code",
   "execution_count": 1,
   "metadata": {
    "collapsed": true
   },
   "outputs": [],
   "source": [
    "import pandas as pd"
   ]
  },
  {
   "cell_type": "code",
   "execution_count": 2,
   "metadata": {
    "collapsed": true
   },
   "outputs": [],
   "source": [
    "df = pd.read_csv(\"AAPL.csv\")"
   ]
  },
  {
   "cell_type": "code",
   "execution_count": 4,
   "metadata": {},
   "outputs": [
    {
     "data": {
      "text/html": [
       "<div>\n",
       "<style>\n",
       "    .dataframe thead tr:only-child th {\n",
       "        text-align: right;\n",
       "    }\n",
       "\n",
       "    .dataframe thead th {\n",
       "        text-align: left;\n",
       "    }\n",
       "\n",
       "    .dataframe tbody tr th {\n",
       "        vertical-align: top;\n",
       "    }\n",
       "</style>\n",
       "<table border=\"1\" class=\"dataframe\">\n",
       "  <thead>\n",
       "    <tr style=\"text-align: right;\">\n",
       "      <th></th>\n",
       "      <th>Date</th>\n",
       "      <th>Open</th>\n",
       "      <th>High</th>\n",
       "      <th>Low</th>\n",
       "      <th>Close</th>\n",
       "      <th>Adj Close</th>\n",
       "      <th>Volume</th>\n",
       "    </tr>\n",
       "  </thead>\n",
       "  <tbody>\n",
       "    <tr>\n",
       "      <th>499</th>\n",
       "      <td>2018-10-03</td>\n",
       "      <td>230.050003</td>\n",
       "      <td>233.470001</td>\n",
       "      <td>229.779999</td>\n",
       "      <td>232.070007</td>\n",
       "      <td>232.070007</td>\n",
       "      <td>28654800</td>\n",
       "    </tr>\n",
       "    <tr>\n",
       "      <th>500</th>\n",
       "      <td>2018-10-04</td>\n",
       "      <td>230.779999</td>\n",
       "      <td>232.350006</td>\n",
       "      <td>226.729996</td>\n",
       "      <td>227.990005</td>\n",
       "      <td>227.990005</td>\n",
       "      <td>32042000</td>\n",
       "    </tr>\n",
       "    <tr>\n",
       "      <th>501</th>\n",
       "      <td>2018-10-05</td>\n",
       "      <td>227.960007</td>\n",
       "      <td>228.410004</td>\n",
       "      <td>220.580002</td>\n",
       "      <td>224.289993</td>\n",
       "      <td>224.289993</td>\n",
       "      <td>33580500</td>\n",
       "    </tr>\n",
       "    <tr>\n",
       "      <th>502</th>\n",
       "      <td>2018-10-08</td>\n",
       "      <td>222.210007</td>\n",
       "      <td>224.800003</td>\n",
       "      <td>220.199997</td>\n",
       "      <td>223.770004</td>\n",
       "      <td>223.770004</td>\n",
       "      <td>29663900</td>\n",
       "    </tr>\n",
       "    <tr>\n",
       "      <th>503</th>\n",
       "      <td>2018-10-09</td>\n",
       "      <td>223.639999</td>\n",
       "      <td>227.270004</td>\n",
       "      <td>222.250000</td>\n",
       "      <td>226.869995</td>\n",
       "      <td>226.869995</td>\n",
       "      <td>26873300</td>\n",
       "    </tr>\n",
       "  </tbody>\n",
       "</table>\n",
       "</div>"
      ],
      "text/plain": [
       "           Date        Open        High         Low       Close   Adj Close  \\\n",
       "499  2018-10-03  230.050003  233.470001  229.779999  232.070007  232.070007   \n",
       "500  2018-10-04  230.779999  232.350006  226.729996  227.990005  227.990005   \n",
       "501  2018-10-05  227.960007  228.410004  220.580002  224.289993  224.289993   \n",
       "502  2018-10-08  222.210007  224.800003  220.199997  223.770004  223.770004   \n",
       "503  2018-10-09  223.639999  227.270004  222.250000  226.869995  226.869995   \n",
       "\n",
       "       Volume  \n",
       "499  28654800  \n",
       "500  32042000  \n",
       "501  33580500  \n",
       "502  29663900  \n",
       "503  26873300  "
      ]
     },
     "execution_count": 4,
     "metadata": {},
     "output_type": "execute_result"
    }
   ],
   "source": [
    "df.tail()"
   ]
  },
  {
   "cell_type": "code",
   "execution_count": 7,
   "metadata": {},
   "outputs": [
    {
     "data": {
      "text/plain": [
       "<matplotlib.axes._subplots.AxesSubplot at 0x1196127b8>"
      ]
     },
     "execution_count": 7,
     "metadata": {},
     "output_type": "execute_result"
    }
   ],
   "source": [
    "df[['Open','Close']].plot()"
   ]
  },
  {
   "cell_type": "code",
   "execution_count": null,
   "metadata": {
    "collapsed": true
   },
   "outputs": [],
   "source": []
  }
 ],
 "metadata": {
  "kernelspec": {
   "display_name": "Python 3",
   "language": "python",
   "name": "python3"
  },
  "language_info": {
   "codemirror_mode": {
    "name": "ipython",
    "version": 3
   },
   "file_extension": ".py",
   "mimetype": "text/x-python",
   "name": "python",
   "nbconvert_exporter": "python",
   "pygments_lexer": "ipython3",
   "version": "3.6.3"
  }
 },
 "nbformat": 4,
 "nbformat_minor": 2
}
